{
  "nbformat": 4,
  "nbformat_minor": 0,
  "metadata": {
    "colab": {
      "name": "Copy of CRAN_Queries.ipynb",
      "provenance": [],
      "collapsed_sections": []
    },
    "kernelspec": {
      "name": "python3",
      "display_name": "Python 3"
    },
    "language_info": {
      "name": "python"
    }
  },
  "cells": [
    {
      "cell_type": "code",
      "metadata": {
        "colab": {
          "base_uri": "https://localhost:8080/"
        },
        "cellView": "form",
        "id": "LaTSAiVPzpP0",
        "outputId": "40ee08e1-ec66-40c8-8925-46159e95afc6"
      },
      "source": [
        "#@markdown <br><center><img src='https://upload.wikimedia.org/wikipedia/commons/thumb/d/da/Google_Drive_logo.png/600px-Google_Drive_logo.png' height=\"50\" alt=\"Gdrive-logo\"/></center>\n",
        "#@markdown <center><h3>Mount GDrive to /content/drive</h3></center><br>\n",
        "MODE = \"MOUNT\" #@param [\"MOUNT\", \"UNMOUNT\"]\n",
        "#Mount your Gdrive! \n",
        "from google.colab import drive\n",
        "drive.mount._DEBUG = False\n",
        "if MODE == \"MOUNT\":\n",
        "  drive.mount('/content/drive', force_remount=True)\n",
        "elif MODE == \"UNMOUNT\":\n",
        "  try:\n",
        "    drive.flush_and_unmount()\n",
        "  except ValueError:\n",
        "    pass\n",
        "  get_ipython().system_raw(\"rm -rf /root/.config/Google/DriveFS\")"
      ],
      "execution_count": 79,
      "outputs": [
        {
          "output_type": "stream",
          "name": "stdout",
          "text": [
            "Mounted at /content/drive\n"
          ]
        }
      ]
    },
    {
      "cell_type": "code",
      "metadata": {
        "colab": {
          "base_uri": "https://localhost:8080/"
        },
        "cellView": "form",
        "id": "vSSB2bNLxx6P",
        "outputId": "081d452b-7c95-42a8-ff68-73d43b832af2"
      },
      "source": [
        "#@title Module1: Imports\n",
        "import re\n",
        "import nltk\n",
        "from nltk.corpus import stopwords\n",
        "from nltk.stem.porter import PorterStemmer\n",
        "porter = PorterStemmer()\n",
        "nltk.download('stopwords')\n",
        "stop_words=set(stopwords.words(\"english\"))\n",
        "##############################################################"
      ],
      "execution_count": 80,
      "outputs": [
        {
          "output_type": "stream",
          "name": "stdout",
          "text": [
            "[nltk_data] Downloading package stopwords to /root/nltk_data...\n",
            "[nltk_data]   Package stopwords is already up-to-date!\n"
          ]
        }
      ]
    },
    {
      "cell_type": "code",
      "metadata": {
        "id": "Kn-VZEZS4ue6"
      },
      "source": [
        "####\n",
        "import pandas as pd\n",
        "import re\n",
        "A = pd.DataFrame({},columns=['Title','Author','info_abt_paper','text_block'])\n",
        "\n",
        "def load_row(my_row):\n",
        "  A.loc[len(A.index)+1] = my_row\n",
        "\n",
        "with open(\"/content/drive/MyDrive/CRAN/Unzipped_cran/cran.all.1400\", 'r') as x:\n",
        "  #next(x) # it is used when first line contains column names\n",
        "  full_string = x.read()\n",
        "  full_string = full_string.replace('\\n',' ').split(\".I\")[1:]\n",
        "  for seg in full_string:\n",
        "    seg = seg.replace(\".T\",\"_\").replace(\".A\",\"_\").replace(\".B\",\"_\").replace(\".W\",\"_\")\n",
        "    seg=seg.split(\"_\")[1:]\n",
        "    load_row(seg[:4])\n",
        "A.index.name = 'ID'\n",
        "A=A.reset_index()\n"
      ],
      "execution_count": 81,
      "outputs": []
    },
    {
      "cell_type": "code",
      "metadata": {
        "id": "GzYSpVzIzKc8"
      },
      "source": [
        "# TEXT QUERY"
      ],
      "execution_count": 82,
      "outputs": []
    },
    {
      "cell_type": "code",
      "metadata": {
        "id": "ZIT3utH1zMrU"
      },
      "source": [
        "def rem_symbols(line):\n",
        "  #return re.sub(\"[^A-Aa-z0-9\\s]+\",'', line)\n",
        "  return re.sub('[^A-Za-z0-9\\s]+', '', line).lower()\n",
        "\n",
        "def preprocess_string(x):\n",
        "  final_list = []\n",
        "  x = x.replace(',',' ').split(' ')\n",
        "  for word in x:\n",
        "        word = rem_symbols(word)\n",
        "        if word and word not in stop_words:\n",
        "          word = porter.stem(word)\n",
        "          final_list.append(word)\n",
        "  #print(\"Preprocessed to:- \",final_list)\n",
        "  return final_list\n"
      ],
      "execution_count": 83,
      "outputs": []
    },
    {
      "cell_type": "code",
      "metadata": {
        "id": "3GG0ZQ660aBg"
      },
      "source": [
        "\n",
        "def rel_text(present1):\n",
        "  List_present = preprocess_string(present1)\n",
        "  #List_notpresent = preprocess_string(notpresent1)\n",
        "  # for now let's consider only one term\n",
        "  #present = List_present[0]  \n",
        "  #notpresent = List_notpresent[0]\n",
        "  with open('/content/drive/MyDrive/CRAN/Dumps_1/Text_combine/merged_Text.txt', 'r') as x:\n",
        "    next(x)\n",
        "    count_1 = 0\n",
        "    rel_doc = [ ]\n",
        "    for i in x:\n",
        "      i = i.strip()\n",
        "      list_doc = i.split(\" \")\n",
        "      term = list_doc[0]   # \"Hellow\"\n",
        "      freq = list_doc[1]   # \"32\"\n",
        "      docs = list_doc[2:]  # 34_2 43_3 98_1\n",
        "      if term in List_present:\n",
        "        # \n",
        "        count_1 += 1\n",
        "        rel_doc+=docs\n",
        "    if len(rel_doc) == 0:\n",
        "      # no relevent doc was found\n",
        "      return None\n",
        "    else:\n",
        "      # rel doc found\n",
        "      rel_list=[]\n",
        "      for i in rel_doc:\n",
        "        j,k = list(map(int, i.split(\"_\")))\n",
        "        rel_list.append((j,k))                    # [(23,45), (34,23), (76,34)] (docId,freq)\n",
        "      rel_set = set([k for k,l in rel_list])\n",
        "\n",
        "      desired_list = list(rel_set)    \n",
        "      # desired_list [23, 34, 12, 120, 43]  list docIds\n",
        "      filtered_list = []\n",
        "      for i in set(rel_list):\n",
        "        if i[0] in desired_list:\n",
        "          filtered_list.append(i)\n",
        "      sorted_rel_list = sorted(filtered_list,key=lambda j:j[1],reverse=True)\n",
        "      return sorted_rel_list\n",
        "###############################################################"
      ],
      "execution_count": 84,
      "outputs": []
    },
    {
      "cell_type": "code",
      "metadata": {
        "id": "POFvzxm_xBDp"
      },
      "source": [
        "def Display1():\n",
        "  print(\"Query:- A intersection B\")\n",
        "  st1 = input(\"A,B = \").split()\n",
        "  if len(st1) != 2:\n",
        "    print(\"Invalid input\")\n",
        "    return\n",
        "  l1 = rel_text(st1[0])\n",
        "  l2 = rel_text(st1[1])\n",
        "  if l1 is None or l2 is None:\n",
        "    print(\"Not Found\")\n",
        "  else:\n",
        "    l1 = set([i for i,j in l1])\n",
        "    l2 = set([i for i,j in l2])\n",
        "    print(list(l1.intersection(l2)))\n",
        "\n",
        "def Display2():\n",
        "  print(\"Query:- A union B\")\n",
        "  st1 = input(\"A,B = \").split()\n",
        "  if len(st1) != 2:\n",
        "    print(\"Invalid input\")\n",
        "    return\n",
        "  l1 = rel_text(st1[0])\n",
        "  l2 = rel_text(st1[1])\n",
        "  if l1 is None or l2 is None:\n",
        "    print(\"Not Found\")\n",
        "  else:\n",
        "    l1 = set([i for i,j in l1])\n",
        "    l2 = set([i for i,j in l2])\n",
        "    print(list(l1.union(l2)))\n",
        "\n",
        "def Display3():\n",
        "  print(\"Query:- A but not B\")\n",
        "  st1 = input(\"A,B = \").split()\n",
        "  if len(st1) != 2:\n",
        "    print(\"Invalid input\")\n",
        "    return\n",
        "  l1 = rel_text(st1[0])\n",
        "  l2 = rel_text(st1[1])\n",
        "  if l1 is None or l2 is None:\n",
        "    print(\"Not Found\")\n",
        "  else:\n",
        "    l1 = set([i for i,j in l1])\n",
        "    l2 = set([i for i,j in l2])\n",
        "    print(list(l1-l2)) "
      ],
      "execution_count": 85,
      "outputs": []
    },
    {
      "cell_type": "code",
      "metadata": {
        "colab": {
          "base_uri": "https://localhost:8080/"
        },
        "id": "cuqu2opqxg9d",
        "outputId": "4fcdb6ce-3820-474c-85fb-7cdab6d8a091"
      },
      "source": [
        "Display1()  # intersection/conjunction sinusoid wave"
      ],
      "execution_count": 86,
      "outputs": [
        {
          "output_type": "stream",
          "name": "stdout",
          "text": [
            "Query:- A intersection B\n",
            "A,B = \n",
            "Invalid input\n"
          ]
        }
      ]
    },
    {
      "cell_type": "code",
      "metadata": {
        "colab": {
          "base_uri": "https://localhost:8080/"
        },
        "id": "CKSbpWc_xjL6",
        "outputId": "827fa4a5-deed-4b92-f2f9-b80eaf3b46de"
      },
      "source": [
        "Display2() # union/disjunctions sinusoid wave"
      ],
      "execution_count": 87,
      "outputs": [
        {
          "output_type": "stream",
          "name": "stdout",
          "text": [
            "Query:- A union B\n",
            "A,B = \n",
            "Invalid input\n"
          ]
        }
      ]
    },
    {
      "cell_type": "code",
      "metadata": {
        "colab": {
          "base_uri": "https://localhost:8080/"
        },
        "id": "wgCCUtkpUDWT",
        "outputId": "99bb9a3b-a946-4051-b121-4b90ec4ac1c3"
      },
      "source": [
        "Display3() # A negation B sinusoidal wave"
      ],
      "execution_count": 88,
      "outputs": [
        {
          "output_type": "stream",
          "name": "stdout",
          "text": [
            "Query:- A but not B\n",
            "A,B = \n",
            "Invalid input\n"
          ]
        }
      ]
    },
    {
      "cell_type": "code",
      "metadata": {
        "colab": {
          "base_uri": "https://localhost:8080/",
          "height": 124
        },
        "id": "QCfk4MxP40Be",
        "outputId": "1a6df21d-8092-426d-af4e-09757fa8febb"
      },
      "source": [
        "A[A['ID']==1329].loc[1328,'text_block']  # doc1023 contains term 'sinusoidal' and 'wave'"
      ],
      "execution_count": 89,
      "outputs": [
        {
          "output_type": "execute_result",
          "data": {
            "application/vnd.google.colaboratory.intrinsic+json": {
              "type": "string"
            },
            "text/plain": [
              "' some aspects of non-stationary airfoil theory and its practical application .   this paper consists of three notes on the theory of two- dimensional thin airfoils in non-uniform motion .. oscillating airfoil are collected from an earlier paper and are presented in convenient forms for practical application . rigid airfoil passing through a vertical-gust pattern having a sinusoidal distribution of intensity .  the lift is determined as a function of the reduced frequency (which in this case is proportional to the ratio of the airfoil chord and the wave length of the gust pattern) and is presented in the form of a vector diagram . it is shown that the lift acts at the quarter-chord point of the airfoil at all times . calculation of the amplitude of torsional oscillation of a fan blade operating in the wake of a set of pre-rotation vanes .  in a numerical example the amplitude is found to be small even when the vanes are spaced so that the exciting frequency coincides with the natural frequency of the fan blade . '"
            ]
          },
          "metadata": {},
          "execution_count": 89
        }
      ]
    },
    {
      "cell_type": "code",
      "metadata": {
        "colab": {
          "base_uri": "https://localhost:8080/",
          "height": 124
        },
        "id": "UpTgOVeH5ntd",
        "outputId": "6c87ee5a-5155-4c07-8fb9-adc7c09ff9bc"
      },
      "source": [
        "A[A['ID']==2].loc[1,'text_block']  # doc2 contains term wave"
      ],
      "execution_count": 90,
      "outputs": [
        {
          "output_type": "execute_result",
          "data": {
            "application/vnd.google.colaboratory.intrinsic+json": {
              "type": "string"
            },
            "text/plain": [
              "\" simple shear flow past a flat plate in an incompressible fluid of small viscosity . in the study of high-speed viscous flow past a two-dimensional body it is usually necessary to consider a curved shock wave emitting from the nose or leading edge of the body .  consequently, there exists an inviscid rotational flow region between the shock wave and the boundary layer .  such a situation arises, for instance, in the study of the hypersonic viscous flow past a flat plate .  the situation is somewhat different from prandtl's classical boundary-layer problem . in prandtl's original problem the inviscid free stream outside the boundary layer is irrotational while in a hypersonic boundary-layer problem the inviscid free stream must be considered as rotational .  the possible effects of vorticity have been recently discussed by ferri and libby .  in the present paper, the simple shear flow past a flat plate in a fluid of small viscosity is investigated .  it can be shown that this problem can again be treated by the boundary-layer approximation, the only novel feature being that the free stream has a constant vorticity .  the discussion here is restricted to two-dimensional incompressible steady flow . \""
            ]
          },
          "metadata": {},
          "execution_count": 90
        }
      ]
    },
    {
      "cell_type": "code",
      "metadata": {
        "colab": {
          "base_uri": "https://localhost:8080/",
          "height": 70
        },
        "id": "_tgz5wIM5wLe",
        "outputId": "2c05dcf9-24fd-45c4-c3ca-eccd71d1430a"
      },
      "source": [
        "A[A['ID']==65].loc[64,'text_block']  # doc65 contains both terms sinusoidal and wave"
      ],
      "execution_count": 91,
      "outputs": [
        {
          "output_type": "execute_result",
          "data": {
            "application/vnd.google.colaboratory.intrinsic+json": {
              "type": "string"
            },
            "text/plain": [
              "' convection of a pattern of vorticity through a shock wave .   an arbitrary weak spatial distribution of vorticity can be represented in terms of plane sinusoidal shear waves of all orientations and wave lengths (fourier integral) .  the analysis treats the passage of a single representative weak shear wave through a plane shock and shows refraction and modification of the shear wave with simultaneous generation of an acoustically intense sound wave .  applications to turbulence and to noise in supersonic wind tunnels are indicated . '"
            ]
          },
          "metadata": {},
          "execution_count": 91
        }
      ]
    },
    {
      "cell_type": "code",
      "metadata": {
        "id": "R4qMlbRo6zRO"
      },
      "source": [
        ""
      ],
      "execution_count": 91,
      "outputs": []
    },
    {
      "cell_type": "markdown",
      "metadata": {
        "id": "pHLnYh2JYbz7"
      },
      "source": [
        "# Retrieve Documents Rank based on freq of term in doc"
      ]
    },
    {
      "cell_type": "code",
      "metadata": {
        "id": "B4V75AxdYje9"
      },
      "source": [
        "from collections import defaultdict\n",
        "\n",
        "def Display4():\n",
        "  print(\"Query:- \")\n",
        "  st1 = input(\"write your query: \")\n",
        "  st2 = st1.split()\n",
        "  if len(st2) ==0:\n",
        "    print(\"Invalid input\")\n",
        "    return\n",
        "  freq_dist=  defaultdict(set)\n",
        "  for i in st2:\n",
        "    retrieved_tuple=rel_text(i)\n",
        "    print(\"retreived:\",retrieved_tuple)\n",
        "    if retrieved_tuple is None:\n",
        "      pass\n",
        "    else:\n",
        "      for j,k in retrieved_tuple:\n",
        "        if j not in freq_dist:\n",
        "          # first time\n",
        "          freq_dist[j] = k\n",
        "        else:\n",
        "          # not first time\n",
        "          freq_dist[j] += k\n",
        "  # now we have doc and its freq { 23:100, 21:200, 87:30}\n",
        "  ranked_list =[]\n",
        "  for i,j in freq_dist.items():\n",
        "    ranked_list.append((i,j))\n",
        "  ranked_it = sorted(ranked_list,key=lambda _:_[1],reverse=True)\n",
        "  print()\n",
        "  print(ranked_it[:10])\n",
        "  return \n"
      ],
      "execution_count": 92,
      "outputs": []
    },
    {
      "cell_type": "code",
      "metadata": {
        "colab": {
          "base_uri": "https://localhost:8080/"
        },
        "id": "w0MVtPsjb_Ea",
        "outputId": "181488be-b36c-4747-abdd-5aebfbb61dae"
      },
      "source": [
        "Display4()"
      ],
      "execution_count": 93,
      "outputs": [
        {
          "output_type": "stream",
          "name": "stdout",
          "text": [
            "Query:- \n",
            "write your query: \n",
            "Invalid input\n"
          ]
        }
      ]
    },
    {
      "cell_type": "code",
      "metadata": {
        "colab": {
          "base_uri": "https://localhost:8080/",
          "height": 106
        },
        "id": "coFzagSmCYwp",
        "outputId": "5d940149-1cba-467d-a239-fa18608d6c84"
      },
      "source": [
        "A[A['ID']==64].loc[63,'text_block']  # doc65 contains both terms sinusoidal and wave"
      ],
      "execution_count": 94,
      "outputs": [
        {
          "output_type": "execute_result",
          "data": {
            "application/vnd.google.colaboratory.intrinsic+json": {
              "type": "string"
            },
            "text/plain": [
              "' unsteady oblique interaction of a shock wave with plane disturbances .   analysis is made of the flow field produced by oblique impingement of weak plane disturbances of arbitrary profile on a plane normal shock . three types of disturbance are considered .. moves .  the sound wave refracts either as a simple isentropic sound wave or as an attenuating isentropic pressure wave, depending on the angle between the shock and the incident sound wave .  a stationary vorticity wave of constant pressure appears behind the shock . reflects as a sound wave, and a stationary vorticity wave is produced . the shock .  the incident wave refracts as a stationary vorticity wave, and either a sound wave or attenuating pressure wave is also produced .   computations are presented for the first two types of incident wave, over the range of incidence angles, for shock mach numbers of 1, 1.5, and . '"
            ]
          },
          "metadata": {},
          "execution_count": 94
        }
      ]
    },
    {
      "cell_type": "code",
      "metadata": {
        "colab": {
          "base_uri": "https://localhost:8080/",
          "height": 124
        },
        "id": "riX0dWThf8v9",
        "outputId": "2fc7a675-d3e5-411c-aa8b-39b1ad19bd1e"
      },
      "source": [
        "A[A['ID']==1244].loc[1243,'text_block']  # doc65 contains both terms sinusoidal and wave"
      ],
      "execution_count": 95,
      "outputs": [
        {
          "output_type": "execute_result",
          "data": {
            "application/vnd.google.colaboratory.intrinsic+json": {
              "type": "string"
            },
            "text/plain": [
              "\" on the aerodynamic noise of a turbulent jet .   a new model is advanced for analyzing the broad-spectrum noise of a turbulent jet .  the shear layer bounding the turbulent jet is assumed to play an important role in modifying the / quadrupole sound radiation/ from the interior .  to the sound- emitting small-scale turbulent eddies (with frequencies much higher than those of large-scale eddies), the laminar shear layer has an irregular contour, as if the large-scale turbulent motions were frozen .  the linearized analysis is then applied to the laminar shear layer to relate the acoustic oscillations across it .   the concept of geometrical acoustics is generalized to represent the passage of an acoustic ray through a laminar shear layer . acoustic rays may be traced across the shear layer as transmission and refraction, but they may also be apparently /absorbed/ or /generated/ by the laminar layer .  this /generation/ is visualized as the schematic representation, within the framework of geometrical acoustics, of the action of the reynolds stress in transferring energy from the shearing mean flow to the acoustic waves .  such action of the reynolds stress can be neglected in ordinary acoustics when the acoustic medium is not moving at speeds comparable to the speed of sound in the medium . however, this action is of crucial importance in the aerodynamic noise of high-speed turbulent jets where the reynolds stress is the fundamental element of the radiating quadrupoles, according to lighthill .   those acoustic waves that become /stationary/ with respect to the local mean flow somewhere in the interior of the shear layer are significantly modified by the viscous action through the critical layer .  the shear layer therefore serves as a selective amplifier of the acoustic waves passing through it . kinematically, the shear layer brings about the preferred downstream emission ..  dynamically, the shear-layer augmentation significantly increases the polar peak noise level .  the acoustic power output per unit solid angle for such downstream emissions augmented by the shear layer (including the polar peak) varies as, predicted by lighthill, but without lighthill's convective corrections .  on the other hand, the acoustic power output per unit solid angle nearly normal to the jet, due to the transmitted downstream-propagating waves, varies roughly as .  heating the jet gas increases the shear-layer augmentation and may increase the polar peak noise level by several db .  the silencing action of the edge notches and edge teeth may also be interpreted as due apparently to the result of possible distortion of the shear-layer profiles . \""
            ]
          },
          "metadata": {},
          "execution_count": 95
        }
      ]
    },
    {
      "cell_type": "code",
      "metadata": {
        "id": "0mdVfyAiB-MV"
      },
      "source": [
        ""
      ],
      "execution_count": null,
      "outputs": []
    },
    {
      "cell_type": "markdown",
      "metadata": {
        "id": "co-IMVoewlsn"
      },
      "source": [
        "# Next CRAN Queries and Relevance doc as DATAFRAME"
      ]
    },
    {
      "cell_type": "code",
      "metadata": {
        "id": "DaTL5VTgwm6d"
      },
      "source": [
        "import pandas as pd\n",
        "import re\n",
        "A = pd.DataFrame({},columns=['query_no','query'])\n",
        "\n",
        "def load_row(my_row):\n",
        "  A.loc[len(A.index)+1] = my_row\n",
        "\n",
        "with open(r\"/content/drive/MyDrive/CRAN/Unzipped_cran/cran.qry\",'r') as x:\n",
        "    full_file = x.read()\n",
        "    full_file = full_file.strip().replace(\"\\n\",\" \").split(\".I\")[1:]\n",
        "    for line in full_file:\n",
        "        line= line.split(\".W\")\n",
        "        a,b = line\n",
        "        b = b.strip()\n",
        "        load_row([int(a),b])\n",
        "\n",
        "B = pd.DataFrame({},columns=['query_no','doc_id','rel_score'])\n",
        "\n",
        "def load_row_q(my_row):\n",
        "  B.loc[len(B.index)+1] = my_row\n",
        "\n",
        "with open(r\"/content/drive/MyDrive/CRAN/Unzipped_cran/cranqrel\",'r') as x:\n",
        "    for i in x:\n",
        "        load_row_q(list(map(int,i.split())))\n"
      ],
      "execution_count": 96,
      "outputs": []
    },
    {
      "cell_type": "code",
      "metadata": {
        "id": "7Y042GTf0yWV",
        "colab": {
          "base_uri": "https://localhost:8080/",
          "height": 110
        },
        "outputId": "9f50a06b-ee3d-45a6-a71c-f8838aadfaa5"
      },
      "source": [
        "A.head(2)"
      ],
      "execution_count": 97,
      "outputs": [
        {
          "output_type": "execute_result",
          "data": {
            "text/html": [
              "<div>\n",
              "<style scoped>\n",
              "    .dataframe tbody tr th:only-of-type {\n",
              "        vertical-align: middle;\n",
              "    }\n",
              "\n",
              "    .dataframe tbody tr th {\n",
              "        vertical-align: top;\n",
              "    }\n",
              "\n",
              "    .dataframe thead th {\n",
              "        text-align: right;\n",
              "    }\n",
              "</style>\n",
              "<table border=\"1\" class=\"dataframe\">\n",
              "  <thead>\n",
              "    <tr style=\"text-align: right;\">\n",
              "      <th></th>\n",
              "      <th>query_no</th>\n",
              "      <th>query</th>\n",
              "    </tr>\n",
              "  </thead>\n",
              "  <tbody>\n",
              "    <tr>\n",
              "      <th>1</th>\n",
              "      <td>1</td>\n",
              "      <td>what similarity laws must be obeyed when const...</td>\n",
              "    </tr>\n",
              "    <tr>\n",
              "      <th>2</th>\n",
              "      <td>2</td>\n",
              "      <td>what are the structural and aeroelastic proble...</td>\n",
              "    </tr>\n",
              "  </tbody>\n",
              "</table>\n",
              "</div>"
            ],
            "text/plain": [
              "  query_no                                              query\n",
              "1        1  what similarity laws must be obeyed when const...\n",
              "2        2  what are the structural and aeroelastic proble..."
            ]
          },
          "metadata": {},
          "execution_count": 97
        }
      ]
    },
    {
      "cell_type": "code",
      "metadata": {
        "colab": {
          "base_uri": "https://localhost:8080/",
          "height": 110
        },
        "id": "pBceQyq64dPm",
        "outputId": "e437cf6f-3885-43a0-ff1e-d3587e95ea38"
      },
      "source": [
        "B.head(2)"
      ],
      "execution_count": 98,
      "outputs": [
        {
          "output_type": "execute_result",
          "data": {
            "text/html": [
              "<div>\n",
              "<style scoped>\n",
              "    .dataframe tbody tr th:only-of-type {\n",
              "        vertical-align: middle;\n",
              "    }\n",
              "\n",
              "    .dataframe tbody tr th {\n",
              "        vertical-align: top;\n",
              "    }\n",
              "\n",
              "    .dataframe thead th {\n",
              "        text-align: right;\n",
              "    }\n",
              "</style>\n",
              "<table border=\"1\" class=\"dataframe\">\n",
              "  <thead>\n",
              "    <tr style=\"text-align: right;\">\n",
              "      <th></th>\n",
              "      <th>query_no</th>\n",
              "      <th>doc_id</th>\n",
              "      <th>rel_score</th>\n",
              "    </tr>\n",
              "  </thead>\n",
              "  <tbody>\n",
              "    <tr>\n",
              "      <th>1</th>\n",
              "      <td>1</td>\n",
              "      <td>184</td>\n",
              "      <td>2</td>\n",
              "    </tr>\n",
              "    <tr>\n",
              "      <th>2</th>\n",
              "      <td>1</td>\n",
              "      <td>29</td>\n",
              "      <td>2</td>\n",
              "    </tr>\n",
              "  </tbody>\n",
              "</table>\n",
              "</div>"
            ],
            "text/plain": [
              "  query_no doc_id rel_score\n",
              "1        1    184         2\n",
              "2        1     29         2"
            ]
          },
          "metadata": {},
          "execution_count": 98
        }
      ]
    },
    {
      "cell_type": "code",
      "metadata": {
        "id": "yos9Nrkn_7-7"
      },
      "source": [
        ""
      ],
      "execution_count": 98,
      "outputs": []
    },
    {
      "cell_type": "markdown",
      "metadata": {
        "id": "xM7eCTLR_9_N"
      },
      "source": [
        "# Zone Relevance score"
      ]
    },
    {
      "cell_type": "code",
      "metadata": {
        "id": "GE1V6fCRSckM"
      },
      "source": [
        "\n",
        "def rel_zone(present1,zone):\n",
        "  List_present = preprocess_string(present1)\n",
        "  #List_notpresent = preprocess_string(notpresent1)\n",
        "  # for now let's consider only one term\n",
        "  #present = List_present[0]  \n",
        "  #notpresent = List_notpresent[0]\n",
        "  with open(f'/content/drive/MyDrive/CRAN/Dumps_1/{zone}_combine/merged_{zone}.txt', 'r') as x:\n",
        "    next(x)\n",
        "    count_1 = 0\n",
        "    rel_doc = [ ]\n",
        "    for i in x:\n",
        "      #print(i)\n",
        "      i = i.strip()\n",
        "      list_doc = i.split(\" \")\n",
        "      term = list_doc[0]   # \"Hellow\"\n",
        "      freq = list_doc[1]   # \"32\"\n",
        "      docs = list_doc[2:]  # 34_2 43_3 98_1\n",
        "      if term in List_present:\n",
        "        # \n",
        "        count_1 += 1\n",
        "        rel_doc+=docs\n",
        "    if len(rel_doc) == 0:\n",
        "      # no relevent doc was found\n",
        "      return None\n",
        "    else:\n",
        "      # rel doc found\n",
        "      rel_list=[]\n",
        "      for i in rel_doc:\n",
        "        j,k = list(map(int, i.split(\"_\")))\n",
        "        rel_list.append((j,k))                    # [(23,45), (34,23), (76,34)] (docId,freq)\n",
        "      rel_set = set([k for k,l in rel_list])\n",
        "\n",
        "      desired_list = list(rel_set)    \n",
        "      # desired_list [23, 34, 12, 120, 43]  list docIds\n",
        "      filtered_list = []\n",
        "      for i in set(rel_list):\n",
        "        if i[0] in desired_list:\n",
        "          filtered_list.append(i)\n",
        "      sorted_rel_list = sorted(filtered_list,key=lambda j:j[1],reverse=True)\n",
        "      return sorted_rel_list\n",
        "###############################################################"
      ],
      "execution_count": 99,
      "outputs": []
    },
    {
      "cell_type": "code",
      "metadata": {
        "id": "3xcDG3EJAZgh"
      },
      "source": [
        "from collections import defaultdict\n",
        "\n",
        "def query(st1,zone):\n",
        "  #print(\"Query:- \")\n",
        "  #st1 = input(\"write your query: \")\n",
        "  st2 = st1.split()\n",
        "  if len(st2) ==0:\n",
        "    #print(\"Invalid input\")\n",
        "    return \"NONE\"\n",
        "  freq_dist=  defaultdict(set)\n",
        "  for i in st2:\n",
        "    retrieved_tuple=rel_zone(i,zone)\n",
        "    #print(\"retreived:\",retrieved_tuple)\n",
        "    if retrieved_tuple is None:\n",
        "      pass\n",
        "    else:\n",
        "      for j,k in retrieved_tuple:\n",
        "        if j not in freq_dist:\n",
        "          # first time\n",
        "          freq_dist[j] = k\n",
        "        else:\n",
        "          # not first time\n",
        "          freq_dist[j] += k\n",
        "  # now we have doc and its freq { 23:100, 21:200, 87:30}\n",
        "  if freq_dist ==defaultdict(set):\n",
        "    # empty\n",
        "    return \"NONE\"\n",
        "  ranked_list =[]\n",
        "  for i,j in freq_dist.items():\n",
        "    ranked_list.append((i,j))\n",
        "  ranked_it = sorted(ranked_list,key=lambda _:_[1],reverse=True)\n",
        "  #print()\n",
        "  #print(ranked_it[:10])\n",
        "  return ranked_it\n"
      ],
      "execution_count": 100,
      "outputs": []
    },
    {
      "cell_type": "code",
      "metadata": {
        "id": "t-udCXUn4ejT"
      },
      "source": [
        "import numpy as np\n",
        "def val_prec(list1):\n",
        "  return np.sum(list1)/len(list1)\n",
        "\n",
        "def cal_precision(true_list,pred_list):\n",
        "  new_list=[]\n",
        "  for i in pred_list:\n",
        "    if i in true_list:\n",
        "      new_list.append(1)\n",
        "    else:\n",
        "      new_list.append(0)\n",
        "  return np.mean([val_prec(new_list[:i]) for i in range(1,len(new_list)+1)])\n",
        "\n",
        "def score_query(query_no1,zone):\n",
        "  # it return true list of relevant documents\n",
        "  true_list = []\n",
        "  for i,j in B[B.query_no==query_no1].iloc[:,1:3].iterrows():\n",
        "    true_list.append((j[0],j[1]))\n",
        "  t=sorted(true_list,key= lambda _:_[1])\n",
        "\n",
        "  # it return pred list of relevant documents\n",
        "  #p=[(51, 26), (874, 22), (486, 17), (792, 14), (1328, 13), (252, 12), (329, 12), (1268, 12), (1147, 11), (1144, 11)]\n",
        "  p = query(A[A.query_no==query_no1].iloc[0,1],zone)\n",
        "  \"\"\"\n",
        "  print()\n",
        "  print('Relevent documents:-')\n",
        "  print(t)\n",
        "  print(\"Retrieved documents:-\")\n",
        "  print(p)\n",
        "  print(\"MAP:-\")\n",
        "  \"\"\"\n",
        "  if p=='NONE':\n",
        "    #print(\"found\",p)\n",
        "    p=0\n",
        "    #####print(p)\n",
        "    return 0,p,t\n",
        "  z = cal_precision([i for i,j in t],[i for i,j in p])\n",
        "  print(z)\n",
        "  return z,p,t\n"
      ],
      "execution_count": 101,
      "outputs": []
    },
    {
      "cell_type": "code",
      "metadata": {
        "colab": {
          "base_uri": "https://localhost:8080/"
        },
        "id": "uT0TSDHSS_MY",
        "outputId": "3c6a3942-2e55-4af3-9afa-443279c96ff8"
      },
      "source": [
        "score_query(2,'Text')\n",
        "print()"
      ],
      "execution_count": 104,
      "outputs": [
        {
          "output_type": "stream",
          "name": "stdout",
          "text": [
            "0.0590858944078044\n",
            "\n"
          ]
        }
      ]
    },
    {
      "cell_type": "code",
      "metadata": {
        "id": "RhWJcQ_U4q8D"
      },
      "source": [
        "sni\n"
      ],
      "execution_count": null,
      "outputs": []
    },
    {
      "cell_type": "markdown",
      "metadata": {
        "id": "P2H2rJclixtZ"
      },
      "source": [
        "# Learn weights using Machine Learning"
      ]
    },
    {
      "cell_type": "code",
      "metadata": {
        "id": "IgsAVIhR0y0U"
      },
      "source": [
        "from sklearn.metrics import mean_squared_error"
      ],
      "execution_count": 105,
      "outputs": []
    },
    {
      "cell_type": "code",
      "metadata": {
        "id": "RLCg3crO4zfB"
      },
      "source": [
        "def my_final_retrieved_docs(weights):\n",
        "  all_queries = list(A.query_no.values)\n",
        "  value_whole = 0\n",
        "  #weights_list = [1,2,3,4]\n",
        "  weights_list = weights\n",
        "  for que in all_queries:\n",
        "    #w1,w2,w3,w4 = weights\n",
        "    # weights = [.1, .2, .3, .4]\n",
        "    #           'Title' 'Author' 'Text' 'Info'\n",
        "    the_list = ['Title','Author','Text','Info']\n",
        "    my_dict = {}\n",
        "    true_map =[]\n",
        "    #for i1,w in enumerate(weights):\n",
        "    for i1,w in enumerate(weights_list):\n",
        "      MAP, pred_list, true_list = score_query(que,the_list[i1])\n",
        "      true_vals = [i for i,j in true_list]\n",
        "      if pred_list ==0 or pred_list is None or pred_list == []:\n",
        "        pass\n",
        "      else:\n",
        "        for val in pred_list:\n",
        "          #print(\"entered2_\",val[0])\n",
        "          #print(\"entered\",val)\n",
        "          x= val[0]\n",
        "          if x not in my_dict:\n",
        "            my_dict[x] = 1*w\n",
        "            true_map += [int(x in true_vals)]\n",
        "          else:\n",
        "            my_dict[x] = my_dict[x] + 1*w \n",
        "          #print('entered3_',val[0])\n",
        "        \n",
        "    # we will have dict {23: .2, 12:. 3, 23:.12}\n",
        "    # we have list      [ 1       0       1    ]\n",
        "    #print(pd.DataFrame(my_dict, columns=['doc_id','score']))\n",
        "    c = pd.DataFrame(columns=['doc_id','score','b'])\n",
        "    c['doc_id'] = list(my_dict.keys())\n",
        "    c['score'] = list(my_dict.values())\n",
        "    c['b'] = true_map\n",
        "    value_whole +=  mean_squared_error(c['b'],c['score'])\n",
        "  return value_whole/len(all_queries)\n"
      ],
      "execution_count": 106,
      "outputs": []
    },
    {
      "cell_type": "code",
      "metadata": {
        "id": "c2fohoOo16OD"
      },
      "source": [
        ""
      ],
      "execution_count": 106,
      "outputs": []
    },
    {
      "cell_type": "code",
      "metadata": {
        "id": "AwDv3sfjobuB",
        "colab": {
          "base_uri": "https://localhost:8080/"
        },
        "outputId": "01e93854-617d-4553-81c4-8127d39c5536"
      },
      "source": [
        "z=my_final_retrieved_docs([.1,.2,.3,.4])\n",
        "print(z)"
      ],
      "execution_count": 107,
      "outputs": [
        {
          "output_type": "stream",
          "name": "stdout",
          "text": [
            "0.15435135370562167\n",
            "0.09337445404849311\n",
            "0.0\n",
            "0.07539813029970197\n",
            "0.0590858944078044\n",
            "0.0\n",
            "0.0\n",
            "0.0\n",
            "0.0\n",
            "0.016127027851095342\n",
            "0.009268526471519167\n",
            "0.0\n",
            "0.0\n",
            "0.0\n",
            "0.0\n",
            "0.0\n",
            "0.003097276516041426\n",
            "0.0030739165679154667\n",
            "0.0\n",
            "0.008221084147427588\n",
            "0.0032926467418769507\n",
            "0.0052081448637302154\n",
            "0.0006608145871168985\n",
            "0.0\n",
            "0.0\n",
            "6.421035021673544e-05\n",
            "0.0\n",
            "0.0007882203311117375\n",
            "0.007043613705785137\n",
            "0.0\n",
            "0.0\n",
            "0.0\n",
            "0.06055747568913056\n",
            "0.036594029292943274\n",
            "0.0\n",
            "0.0\n",
            "0.0\n",
            "0.0\n",
            "0.0\n",
            "0.0\n",
            "0.001461593534580841\n",
            "0.0022195127641373965\n",
            "0.0007930147237533535\n",
            "0.0\n",
            "0.003358233002218088\n",
            "0.0009339545787584079\n",
            "0.0\n",
            "0.0016902412547685113\n",
            "0.00201420799536393\n",
            "0.009909410240778594\n",
            "0.011425141914221566\n",
            "0.0\n",
            "0.0\n",
            "0.0065696146469682954\n",
            "0.0\n",
            "0.01648363453537491\n",
            "0.018430933146299927\n",
            "0.0\n",
            "0.01953891744234797\n",
            "0.02389344415915563\n",
            "0.0\n",
            "0.0\n",
            "0.0\n",
            "0.004649298326051649\n",
            "0.0\n",
            "0.0\n",
            "0.0\n",
            "0.0\n",
            "0.007254142011510866\n",
            "0.009232588006882224\n",
            "0.0\n",
            "0.03518076397415613\n",
            "0.02512338278608997\n",
            "0.0\n",
            "0.0\n",
            "0.0\n",
            "0.0\n",
            "0.0\n",
            "0.0\n",
            "0.002153642784107069\n",
            "0.006082736007904686\n",
            "0.0072749083029679746\n",
            "0.0\n",
            "0.005863968677801041\n",
            "0.008729897521878893\n",
            "0.0\n",
            "0.019271136290216494\n",
            "0.01280728279020108\n",
            "0.0\n",
            "0.01036860991566375\n",
            "0.023352881693815233\n",
            "0.0\n",
            "0.0\n",
            "0.0021950012853860093\n",
            "0.0\n",
            "0.0\n",
            "0.0\n",
            "0.0\n",
            "0.0\n",
            "0.0\n",
            "0.0\n",
            "0.017559780478613198\n",
            "0.0037896405157686803\n",
            "0.0\n",
            "0.0013413262147879586\n",
            "0.003059034855605014\n",
            "0.0\n",
            "0.016997514151013936\n",
            "0.611111111111111\n",
            "0.008389210172660477\n",
            "0.14583333333333331\n",
            "0.014133030184939308\n",
            "0.012215139506985022\n",
            "0.006918946873612275\n",
            "0.0\n",
            "0.004895130128581381\n",
            "0.0\n",
            "0.0\n",
            "0.0052572500698806176\n",
            "0.0\n",
            "0.02187488085037997\n",
            "0.021697410997970616\n",
            "0.0\n",
            "0.005424812251182487\n",
            "0.013921755640081484\n",
            "0.0\n",
            "0.0\n",
            "0.005812605626608046\n",
            "0.0006287219404355165\n",
            "0.0\n",
            "0.0016461806333118373\n",
            "0.0\n",
            "0.0\n",
            "0.0\n",
            "0.0007014574609831655\n",
            "0.0\n",
            "0.0\n",
            "0.0\n",
            "0.0015135087467658688\n",
            "0.0\n",
            "0.028201356390163676\n",
            "0.01648262330695328\n",
            "0.01505732227466873\n",
            "0.013466219769040166\n",
            "0.0\n",
            "0.00393965930200756\n",
            "0.006507070486240347\n",
            "0.0\n",
            "0.0\n",
            "0.0\n",
            "0.01967724006026205\n",
            "0.01493431530703752\n",
            "0.0018776118950507292\n",
            "0.001109572541273919\n",
            "0.0\n",
            "0.060869796256079044\n",
            "0.048331563157208615\n",
            "0.0\n",
            "0.0028280644594913585\n",
            "0.002908858671681256\n",
            "0.0\n",
            "0.021074093331307078\n",
            "0.0167815569518326\n",
            "0.0017506807777129844\n",
            "0.005380557114531763\n",
            "0.0\n",
            "0.002753227896886205\n",
            "0.002679259477399651\n",
            "0.0\n",
            "0.0011938293096136984\n",
            "0.006405707777227482\n",
            "0.0\n",
            "0.0\n",
            "0.0014161664762131108\n",
            "0.0\n",
            "0.0\n",
            "0.0\n",
            "0.0\n",
            "0.00029330586419256343\n",
            "0.0\n",
            "0.0\n",
            "0.00010987019304870798\n",
            "0.0\n",
            "0.006752499809556676\n",
            "4.8842199818007725e-05\n",
            "0.001485406308375858\n",
            "0.0\n",
            "0.0\n",
            "0.0008292159288796402\n",
            "0.0\n",
            "0.0015657327904784193\n",
            "0.0005782773434761057\n",
            "0.0\n",
            "0.0\n",
            "0.0031503938585630774\n",
            "0.0\n",
            "0.0\n",
            "0.0017555278320579484\n",
            "0.0\n",
            "0.0004942459796372735\n",
            "0.0\n",
            "0.0\n",
            "0.0003677518292087969\n",
            "0.0\n",
            "0.0004820361629373289\n",
            "0.0\n",
            "0.0038092073549459236\n",
            "0.0\n",
            "0.0\n",
            "0.0\n",
            "0.002055007990883596\n",
            "0.0\n",
            "0.006370636266452022\n",
            "0.0\n",
            "0.006312754049624391\n",
            "0.0\n",
            "0.0\n",
            "0.003400731258370883\n",
            "0.0\n",
            "0.0\n",
            "0.0\n",
            "0.0002850062942945139\n",
            "0.0\n",
            "0.0\n",
            "0.0\n",
            "0.002868986848178904\n",
            "0.063297877180513\n",
            "0.03646766043504773\n",
            "0.0\n",
            "0.0\n",
            "0.0005832691176573\n",
            "0.0\n",
            "0.0\n",
            "0.0\n",
            "0.0\n",
            "0.0\n",
            "0.004165237514660975\n",
            "0.0\n",
            "0.0\n",
            "0.0020492825331579886\n",
            "0.0\n",
            "0.0\n",
            "0.0004817631723615507\n",
            "0.0\n",
            "0.0\n",
            "0.00048231324232536166\n",
            "0.0\n",
            "0.0\n",
            "0.0\n",
            "0.000704522704726441\n",
            "0.0\n",
            "0.0054886246792633375\n",
            "0.006373716691370253\n",
            "0.0\n",
            "0.0\n",
            "0.0002725494544653294\n",
            "0.0\n",
            "0.0\n",
            "0.0\n",
            "0.0\n",
            "0.0\n",
            "0.0\n",
            "2.8068753269089424e-05\n",
            "0.0\n",
            "0.0\n",
            "0.0\n",
            "0.0\n",
            "0.0\n",
            "0.0\n",
            "0.00618231507499247\n",
            "0.0\n",
            "0.0\n",
            "0.0033944285978630474\n",
            "0.0\n",
            "0.0\n",
            "0.0012254928304599754\n",
            "0.0\n",
            "0.0\n",
            "0.001792188259457994\n",
            "0.0\n",
            "0.0\n",
            "0.0013035944386578997\n",
            "0.0\n",
            "0.0\n",
            "0.0\n",
            "0.0\n",
            "0.0\n",
            "0.0\n",
            "0.0\n",
            "0.0016053815988618068\n",
            "0.046803167064606556\n",
            "0.037040293588790754\n",
            "0.0\n",
            "0.009467367379082539\n",
            "0.0\n",
            "0.0\n",
            "0.0031611533638683793\n",
            "0.0\n",
            "0.00010412328196584755\n",
            "0.0010697638566705605\n",
            "0.0\n",
            "5.711086100656126e-05\n",
            "0.0\n",
            "0.0\n",
            "0.0017249045856680383\n",
            "0.03126328560733046\n",
            "0.007176684520907321\n",
            "0.0\n",
            "0.020510846973307958\n",
            "0.026092972510022027\n",
            "0.0\n",
            "0.0\n",
            "0.004598425114339342\n",
            "0.0\n",
            "0.0\n",
            "0.002256651045216995\n",
            "0.0\n",
            "0.0065840633561782035\n",
            "0.005515235866223696\n",
            "0.0\n",
            "0.0017345337754737574\n",
            "0.002293213941471816\n",
            "0.007057082005333009\n",
            "0.0\n",
            "0.004351933273327364\n",
            "0.0\n",
            "0.00022179770322173717\n",
            "0.0012608506065336568\n",
            "0.0\n",
            "0.002410949105112613\n",
            "0.0021373540176057404\n",
            "0.0\n",
            "0.0\n",
            "0.00047439938065386105\n",
            "0.0\n",
            "0.0047763246089205565\n",
            "0.0\n",
            "0.020556096025190984\n",
            "0.013074991505317204\n",
            "0.0\n",
            "0.0017881180088299806\n",
            "0.0024174416772604393\n",
            "0.003880123717817819\n",
            "0.0\n",
            "0.0029254021946313693\n",
            "0.007670952474722606\n",
            "0.0\n",
            "0.0\n",
            "0.002975663999687924\n",
            "0.0\n",
            "0.0\n",
            "0.0009085666741753762\n",
            "0.0\n",
            "0.0009439076951933584\n",
            "0.0\n",
            "0.002350111721810963\n",
            "0.0\n",
            "0.015538743405299692\n",
            "0.010772502518690299\n",
            "0.0\n",
            "0.0\n",
            "0.0\n",
            "0.0\n",
            "0.0\n",
            "0.001246966387087035\n",
            "0.0\n",
            "0.019828952583994097\n",
            "0.01674016575810746\n",
            "0.0\n",
            "0.0\n",
            "0.0011143656994696098\n",
            "0.0\n",
            "0.05010328131000818\n",
            "0.04557933032034271\n",
            "0.0\n",
            "0.0035258450416560693\n",
            "0.0\n",
            "0.003031182534973909\n",
            "0.0\n",
            "0.0\n",
            "0.0014366161349528936\n",
            "0.0\n",
            "0.00023829276499347525\n",
            "0.015157804814561563\n",
            "0.0\n",
            "0.0\n",
            "0.012048082699465326\n",
            "0.0\n",
            "0.0003974230231305239\n",
            "0.0\n",
            "0.002557682650474555\n",
            "0.0\n",
            "0.0\n",
            "0.0070209304663921245\n",
            "0.0\n",
            "0.011475349943205228\n",
            "0.01345865245715327\n",
            "0.0\n",
            "0.0\n",
            "0.0\n",
            "0.0\n",
            "0.02648980903534083\n",
            "0.01694815554225126\n",
            "0.09609510552468747\n",
            "0.03379021986083317\n",
            "0.038711808581974434\n",
            "0.034624164472400694\n",
            "0.0\n",
            "0.0\n",
            "0.004997387165769581\n",
            "0.0\n",
            "0.0\n",
            "0.001953706260737848\n",
            "0.0\n",
            "0.0\n",
            "0.0\n",
            "0.006323598200863749\n",
            "0.0\n",
            "0.009668181802564733\n",
            "0.01088310372300155\n",
            "0.0\n",
            "0.010075153020883118\n",
            "0.0\n",
            "1.696563792588705e-05\n",
            "0.0\n",
            "0.010954169285685687\n",
            "0.009356429571288166\n",
            "0.028695586093564686\n",
            "0.03409282872262509\n",
            "0.0\n",
            "0.0\n",
            "0.0\n",
            "0.0\n",
            "0.0\n",
            "0.0\n",
            "0.0\n",
            "0.0\n",
            "0.0\n",
            "0.0\n",
            "0.0\n",
            "0.0\n",
            "0.0\n",
            "0.0\n",
            "0.0\n",
            "0.0\n",
            "0.0\n",
            "0.0\n",
            "0.0\n",
            "0.0\n",
            "0.0\n",
            "0.0\n",
            "0.0\n",
            "0.0\n",
            "0.0\n",
            "0.0\n",
            "0.0\n",
            "0.0\n",
            "0.0\n",
            "0.0\n",
            "0.0\n",
            "0.0\n",
            "0.0\n",
            "0.0\n",
            "0.0\n",
            "0.0\n",
            "0.0\n",
            "0.0\n",
            "0.0\n",
            "0.0\n",
            "0.0\n",
            "0.0\n",
            "0.0\n",
            "0.0\n",
            "0.0\n",
            "0.0\n",
            "0.0\n",
            "0.0\n",
            "0.0\n",
            "0.0\n",
            "0.0\n",
            "0.0\n",
            "0.0\n",
            "0.0\n",
            "0.0\n",
            "0.0\n",
            "0.0\n",
            "0.0\n",
            "0.0\n",
            "0.0\n",
            "0.0\n",
            "0.0\n",
            "0.0\n",
            "0.0\n",
            "0.0\n",
            "0.0\n",
            "0.0\n",
            "0.0\n",
            "0.0\n",
            "0.0\n",
            "0.0\n",
            "0.0\n",
            "0.0\n",
            "0.0\n",
            "0.0\n",
            "0.0\n",
            "0.0\n",
            "0.0\n",
            "0.0\n",
            "0.0\n",
            "0.0\n",
            "0.0\n",
            "0.0\n",
            "0.0\n",
            "0.0\n",
            "0.0\n",
            "0.0\n",
            "0.0\n",
            "0.0\n",
            "0.0\n",
            "0.0\n",
            "0.0\n",
            "0.0\n",
            "0.0\n",
            "0.0\n",
            "0.0\n",
            "0.0\n",
            "0.0\n",
            "0.0\n",
            "0.0\n",
            "0.0\n",
            "0.0\n",
            "0.0\n",
            "0.0\n",
            "0.0\n",
            "0.0\n",
            "0.0\n",
            "0.0\n",
            "0.0\n",
            "0.0\n",
            "0.0\n",
            "0.0\n",
            "0.0\n",
            "0.0\n",
            "0.0\n",
            "0.0\n",
            "0.0\n",
            "0.0\n",
            "0.0\n",
            "0.0\n",
            "0.0\n",
            "0.0\n",
            "0.0\n",
            "0.0\n",
            "0.0\n",
            "0.0\n",
            "0.0\n",
            "0.0\n",
            "0.0\n",
            "0.0\n",
            "0.0\n",
            "0.0\n",
            "0.0\n",
            "0.0\n",
            "0.0\n",
            "0.0\n",
            "0.0\n",
            "0.0\n",
            "0.0\n",
            "0.0\n",
            "0.0\n",
            "0.0\n",
            "0.0\n",
            "0.0\n",
            "0.0\n",
            "0.0\n",
            "0.0\n",
            "0.0\n",
            "0.0\n",
            "0.0\n",
            "0.0\n",
            "0.0\n",
            "0.0\n",
            "0.0\n",
            "0.0\n",
            "0.0\n",
            "0.0\n",
            "0.0\n",
            "0.0\n",
            "0.0\n",
            "0.0\n",
            "0.0\n",
            "0.0\n",
            "0.0\n",
            "0.0\n",
            "0.0\n",
            "0.0\n",
            "0.0\n",
            "0.0\n",
            "0.0\n",
            "0.0\n",
            "0.0\n",
            "0.0\n",
            "0.0\n",
            "0.0\n",
            "0.0\n",
            "0.0\n",
            "0.0\n",
            "0.0\n",
            "0.0\n",
            "0.0\n",
            "0.0\n",
            "0.0\n",
            "0.0\n",
            "0.0\n",
            "0.0\n",
            "0.0\n",
            "0.0\n",
            "0.0\n",
            "0.0\n",
            "0.0\n",
            "0.0\n",
            "0.0\n",
            "0.0\n",
            "0.0\n",
            "0.0\n",
            "0.0\n",
            "0.0\n",
            "0.0\n",
            "0.0\n",
            "0.0\n",
            "0.0\n",
            "0.0\n",
            "0.0\n",
            "0.0\n",
            "0.11485894681301133\n"
          ]
        }
      ]
    },
    {
      "cell_type": "code",
      "metadata": {
        "colab": {
          "base_uri": "https://localhost:8080/"
        },
        "id": "X1FMHVVu1_vr",
        "outputId": "0d03c78a-3f0a-4684-8b65-4090512c3a52"
      },
      "source": [
        "z"
      ],
      "execution_count": 108,
      "outputs": [
        {
          "output_type": "execute_result",
          "data": {
            "text/plain": [
              "0.11485894681301133"
            ]
          },
          "metadata": {},
          "execution_count": 108
        }
      ]
    },
    {
      "cell_type": "code",
      "metadata": {
        "id": "Fa3ixEdfoD4J"
      },
      "source": [
        "0.11741278314988621"
      ],
      "execution_count": 47,
      "outputs": []
    },
    {
      "cell_type": "markdown",
      "metadata": {
        "id": "cDZ4-y6Z7-O2"
      },
      "source": [
        "## Let's find optimal value of weights using OPTUNA"
      ]
    },
    {
      "cell_type": "code",
      "metadata": {
        "colab": {
          "base_uri": "https://localhost:8080/"
        },
        "id": "MK5NoOH2DT_G",
        "outputId": "8c43ba6c-3ea6-4f4d-ac34-14862dc1500f"
      },
      "source": [
        "!pip install optuna"
      ],
      "execution_count": 50,
      "outputs": [
        {
          "output_type": "stream",
          "name": "stdout",
          "text": [
            "Collecting optuna\n",
            "  Downloading optuna-2.9.1-py3-none-any.whl (302 kB)\n",
            "\u001b[K     |████████████████████████████████| 302 kB 35.5 MB/s \n",
            "\u001b[?25hRequirement already satisfied: numpy in /usr/local/lib/python3.7/dist-packages (from optuna) (1.19.5)\n",
            "Requirement already satisfied: scipy!=1.4.0 in /usr/local/lib/python3.7/dist-packages (from optuna) (1.4.1)\n",
            "Requirement already satisfied: PyYAML in /usr/local/lib/python3.7/dist-packages (from optuna) (3.13)\n",
            "Requirement already satisfied: packaging>=20.0 in /usr/local/lib/python3.7/dist-packages (from optuna) (21.0)\n",
            "Requirement already satisfied: sqlalchemy>=1.1.0 in /usr/local/lib/python3.7/dist-packages (from optuna) (1.4.22)\n",
            "Collecting colorlog\n",
            "  Downloading colorlog-6.4.1-py2.py3-none-any.whl (11 kB)\n",
            "Collecting alembic\n",
            "  Downloading alembic-1.7.1-py3-none-any.whl (208 kB)\n",
            "\u001b[K     |████████████████████████████████| 208 kB 72.0 MB/s \n",
            "\u001b[?25hCollecting cmaes>=0.8.2\n",
            "  Downloading cmaes-0.8.2-py3-none-any.whl (15 kB)\n",
            "Requirement already satisfied: tqdm in /usr/local/lib/python3.7/dist-packages (from optuna) (4.62.0)\n",
            "Collecting cliff\n",
            "  Downloading cliff-3.9.0-py3-none-any.whl (80 kB)\n",
            "\u001b[K     |████████████████████████████████| 80 kB 7.6 MB/s \n",
            "\u001b[?25hRequirement already satisfied: pyparsing>=2.0.2 in /usr/local/lib/python3.7/dist-packages (from packaging>=20.0->optuna) (2.4.7)\n",
            "Requirement already satisfied: greenlet!=0.4.17 in /usr/local/lib/python3.7/dist-packages (from sqlalchemy>=1.1.0->optuna) (1.1.1)\n",
            "Requirement already satisfied: importlib-metadata in /usr/local/lib/python3.7/dist-packages (from sqlalchemy>=1.1.0->optuna) (4.6.4)\n",
            "Collecting Mako\n",
            "  Downloading Mako-1.1.5-py2.py3-none-any.whl (75 kB)\n",
            "\u001b[K     |████████████████████████████████| 75 kB 3.8 MB/s \n",
            "\u001b[?25hRequirement already satisfied: importlib-resources in /usr/local/lib/python3.7/dist-packages (from alembic->optuna) (5.2.2)\n",
            "Collecting pbr!=2.1.0,>=2.0.0\n",
            "  Downloading pbr-5.6.0-py2.py3-none-any.whl (111 kB)\n",
            "\u001b[K     |████████████████████████████████| 111 kB 50.9 MB/s \n",
            "\u001b[?25hCollecting autopage>=0.4.0\n",
            "  Downloading autopage-0.4.0-py3-none-any.whl (20 kB)\n",
            "Collecting cmd2>=1.0.0\n",
            "  Downloading cmd2-2.1.2-py3-none-any.whl (141 kB)\n",
            "\u001b[K     |████████████████████████████████| 141 kB 44.4 MB/s \n",
            "\u001b[?25hCollecting stevedore>=2.0.1\n",
            "  Downloading stevedore-3.4.0-py3-none-any.whl (49 kB)\n",
            "\u001b[K     |████████████████████████████████| 49 kB 4.5 MB/s \n",
            "\u001b[?25hRequirement already satisfied: PrettyTable>=0.7.2 in /usr/local/lib/python3.7/dist-packages (from cliff->optuna) (2.1.0)\n",
            "Requirement already satisfied: wcwidth>=0.1.7 in /usr/local/lib/python3.7/dist-packages (from cmd2>=1.0.0->cliff->optuna) (0.2.5)\n",
            "Collecting pyperclip>=1.6\n",
            "  Downloading pyperclip-1.8.2.tar.gz (20 kB)\n",
            "Requirement already satisfied: typing-extensions in /usr/local/lib/python3.7/dist-packages (from cmd2>=1.0.0->cliff->optuna) (3.7.4.3)\n",
            "Requirement already satisfied: attrs>=16.3.0 in /usr/local/lib/python3.7/dist-packages (from cmd2>=1.0.0->cliff->optuna) (21.2.0)\n",
            "Collecting colorama>=0.3.7\n",
            "  Downloading colorama-0.4.4-py2.py3-none-any.whl (16 kB)\n",
            "Requirement already satisfied: zipp>=0.5 in /usr/local/lib/python3.7/dist-packages (from importlib-metadata->sqlalchemy>=1.1.0->optuna) (3.5.0)\n",
            "Requirement already satisfied: MarkupSafe>=0.9.2 in /usr/local/lib/python3.7/dist-packages (from Mako->alembic->optuna) (2.0.1)\n",
            "Building wheels for collected packages: pyperclip\n",
            "  Building wheel for pyperclip (setup.py) ... \u001b[?25l\u001b[?25hdone\n",
            "  Created wheel for pyperclip: filename=pyperclip-1.8.2-py3-none-any.whl size=11136 sha256=0587cc09ab52313b21b03c30ebcf8ef21616518bc8a2ca86cc6421ff2998047c\n",
            "  Stored in directory: /root/.cache/pip/wheels/9f/18/84/8f69f8b08169c7bae2dde6bd7daf0c19fca8c8e500ee620a28\n",
            "Successfully built pyperclip\n",
            "Installing collected packages: pyperclip, pbr, colorama, stevedore, Mako, cmd2, autopage, colorlog, cmaes, cliff, alembic, optuna\n",
            "Successfully installed Mako-1.1.5 alembic-1.7.1 autopage-0.4.0 cliff-3.9.0 cmaes-0.8.2 cmd2-2.1.2 colorama-0.4.4 colorlog-6.4.1 optuna-2.9.1 pbr-5.6.0 pyperclip-1.8.2 stevedore-3.4.0\n"
          ]
        }
      ]
    },
    {
      "cell_type": "code",
      "metadata": {
        "id": "QyZ4yjjR8C8r"
      },
      "source": [
        "import optuna"
      ],
      "execution_count": 51,
      "outputs": []
    },
    {
      "cell_type": "code",
      "metadata": {
        "id": "FgWTe_CfDRZx"
      },
      "source": [
        "def objective(trial):\n",
        "    w1= trial.suggest_uniform('w1',0,1)\n",
        "    w2 = trial.suggest_uniform('w2',0,1)\n",
        "    w3 = trial.suggest_uniform('w3',0,1)\n",
        "    w4 = trial.suggest_uniform('w4',0,1)\n",
        "    return my_final_retrieved_docs([w1,w2,w3,w4])\n",
        "    "
      ],
      "execution_count": 52,
      "outputs": []
    },
    {
      "cell_type": "code",
      "metadata": {
        "colab": {
          "base_uri": "https://localhost:8080/"
        },
        "id": "3n6lyi_9DbSG",
        "outputId": "6ce05b44-e699-4f41-bdcb-3e1935155bea"
      },
      "source": [
        "study = optuna.create_study(direction='minimize')\n",
        "study.optimize(objective,n_trials=50)"
      ],
      "execution_count": 53,
      "outputs": [
        {
          "output_type": "stream",
          "name": "stderr",
          "text": [
            "\u001b[32m[I 2021-09-12 07:37:47,078]\u001b[0m A new study created in memory with name: no-name-a81f82cb-9f3e-43de-a5f1-c357a351cfb5\u001b[0m\n",
            "\u001b[32m[I 2021-09-12 07:39:22,700]\u001b[0m Trial 0 finished with value: 0.4655026219927819 and parameters: {'w1': 0.2735769219458293, 'w2': 0.3199624888274558, 'w3': 0.5806686701276269, 'w4': 0.006714254503807027}. Best is trial 0 with value: 0.4655026219927819.\u001b[0m\n",
            "\u001b[32m[I 2021-09-12 07:40:59,394]\u001b[0m Trial 1 finished with value: 0.14346286941166916 and parameters: {'w1': 0.23536528117779254, 'w2': 0.8548543490341234, 'w3': 0.26512361442811927, 'w4': 0.8934128233543567}. Best is trial 1 with value: 0.14346286941166916.\u001b[0m\n",
            "\u001b[32m[I 2021-09-12 07:42:34,942]\u001b[0m Trial 2 finished with value: 0.12793901011137213 and parameters: {'w1': 0.343038224811524, 'w2': 0.8898865890590072, 'w3': 0.18713554791403908, 'w4': 0.7378138598347496}. Best is trial 2 with value: 0.12793901011137213.\u001b[0m\n",
            "\u001b[32m[I 2021-09-12 07:44:09,427]\u001b[0m Trial 3 finished with value: 0.05326098576867339 and parameters: {'w1': 0.23950166428794306, 'w2': 0.46146761696600724, 'w3': 0.11430706273572089, 'w4': 0.009348198748962422}. Best is trial 3 with value: 0.05326098576867339.\u001b[0m\n",
            "\u001b[32m[I 2021-09-12 07:45:44,841]\u001b[0m Trial 4 finished with value: 0.9674328933440424 and parameters: {'w1': 0.9228686213721498, 'w2': 0.7243735573985144, 'w3': 0.5639015430306799, 'w4': 0.9985364491200557}. Best is trial 3 with value: 0.05326098576867339.\u001b[0m\n",
            "\u001b[32m[I 2021-09-12 07:47:19,200]\u001b[0m Trial 5 finished with value: 0.7303816001250364 and parameters: {'w1': 0.15521911254482101, 'w2': 0.11171422280751142, 'w3': 0.798969504077178, 'w4': 0.4729157536964659}. Best is trial 3 with value: 0.05326098576867339.\u001b[0m\n",
            "\u001b[32m[I 2021-09-12 07:48:54,112]\u001b[0m Trial 6 finished with value: 1.1539381406232603 and parameters: {'w1': 0.830160844968602, 'w2': 0.6553383788691216, 'w3': 0.7215821605723665, 'w4': 0.5074618531276465}. Best is trial 3 with value: 0.05326098576867339.\u001b[0m\n",
            "\u001b[32m[I 2021-09-12 07:50:29,666]\u001b[0m Trial 7 finished with value: 0.6870474619646312 and parameters: {'w1': 0.8103980801669579, 'w2': 0.8278105781415945, 'w3': 0.46616736197375164, 'w4': 0.03912602718494562}. Best is trial 3 with value: 0.05326098576867339.\u001b[0m\n",
            "\u001b[32m[I 2021-09-12 07:52:05,707]\u001b[0m Trial 8 finished with value: 0.32368329363719833 and parameters: {'w1': 0.11848564183338506, 'w2': 0.6773427596636086, 'w3': 0.5171460287236515, 'w4': 0.828631558388381}. Best is trial 3 with value: 0.05326098576867339.\u001b[0m\n",
            "\u001b[32m[I 2021-09-12 07:53:40,781]\u001b[0m Trial 9 finished with value: 0.23040109791023222 and parameters: {'w1': 0.7143631234565351, 'w2': 0.4199426084443927, 'w3': 0.08433329636805209, 'w4': 0.8280487375239564}. Best is trial 3 with value: 0.05326098576867339.\u001b[0m\n",
            "\u001b[32m[I 2021-09-12 07:55:15,516]\u001b[0m Trial 10 finished with value: 0.33839264624807447 and parameters: {'w1': 0.5352958245125032, 'w2': 0.06168889958472812, 'w3': 0.3444611959373458, 'w4': 0.23246786791814641}. Best is trial 3 with value: 0.05326098576867339.\u001b[0m\n",
            "\u001b[32m[I 2021-09-12 07:56:50,907]\u001b[0m Trial 11 finished with value: 0.06013171329250747 and parameters: {'w1': 0.38467132337855137, 'w2': 0.9903033019856428, 'w3': 0.005748849560212321, 'w4': 0.5879533427071887}. Best is trial 3 with value: 0.05326098576867339.\u001b[0m\n",
            "\u001b[32m[I 2021-09-12 07:58:25,517]\u001b[0m Trial 12 finished with value: 0.07990091237009975 and parameters: {'w1': 0.42917783434087525, 'w2': 0.5125046826077885, 'w3': 0.034216560787444006, 'w4': 0.5314687554968274}. Best is trial 3 with value: 0.05326098576867339.\u001b[0m\n",
            "\u001b[32m[I 2021-09-12 08:00:01,094]\u001b[0m Trial 13 finished with value: 0.004989126915944071 and parameters: {'w1': 0.009946558660320098, 'w2': 0.267004428647879, 'w3': 0.00032022522138083764, 'w4': 0.30108544888047406}. Best is trial 13 with value: 0.004989126915944071.\u001b[0m\n",
            "\u001b[32m[I 2021-09-12 08:01:39,981]\u001b[0m Trial 14 finished with value: 0.0368274705490576 and parameters: {'w1': 0.005292251107355808, 'w2': 0.284003440463952, 'w3': 0.18085255903809386, 'w4': 0.20865527050532467}. Best is trial 13 with value: 0.004989126915944071.\u001b[0m\n",
            "\u001b[32m[I 2021-09-12 08:03:17,043]\u001b[0m Trial 15 finished with value: 0.12205372066400806 and parameters: {'w1': 0.028625076601160093, 'w2': 0.2673840979040344, 'w3': 0.33546523619086077, 'w4': 0.2799014022130159}. Best is trial 13 with value: 0.004989126915944071.\u001b[0m\n",
            "\u001b[32m[I 2021-09-12 08:04:52,683]\u001b[0m Trial 16 finished with value: 0.04661597017967589 and parameters: {'w1': 0.0013353394486260717, 'w2': 0.22194794578075033, 'w3': 0.20716509955894924, 'w4': 0.253449058747266}. Best is trial 13 with value: 0.004989126915944071.\u001b[0m\n",
            "\u001b[32m[I 2021-09-12 08:06:27,940]\u001b[0m Trial 17 finished with value: 0.4235781481438178 and parameters: {'w1': 0.5727680597180761, 'w2': 0.17628047427164006, 'w3': 0.3984355524795532, 'w4': 0.40202496547662614}. Best is trial 13 with value: 0.004989126915944071.\u001b[0m\n",
            "\u001b[32m[I 2021-09-12 08:08:03,831]\u001b[0m Trial 18 finished with value: 0.9826123650494021 and parameters: {'w1': 0.11175972994733319, 'w2': 0.33385970621393607, 'w3': 0.9551416430931393, 'w4': 0.1489314924206977}. Best is trial 13 with value: 0.004989126915944071.\u001b[0m\n",
            "\u001b[32m[I 2021-09-12 08:09:38,634]\u001b[0m Trial 19 finished with value: 0.026526827461804965 and parameters: {'w1': 0.001123559076236516, 'w2': 0.021966064423706855, 'w3': 0.1493535664924442, 'w4': 0.30978757767104703}. Best is trial 13 with value: 0.004989126915944071.\u001b[0m\n",
            "\u001b[32m[I 2021-09-12 08:11:13,294]\u001b[0m Trial 20 finished with value: 0.042891294158416825 and parameters: {'w1': 0.15991850529081048, 'w2': 0.03523916115840518, 'w3': 0.12662459422633188, 'w4': 0.3973707480423101}. Best is trial 13 with value: 0.004989126915944071.\u001b[0m\n",
            "\u001b[32m[I 2021-09-12 08:12:47,747]\u001b[0m Trial 21 finished with value: 0.06616756743381028 and parameters: {'w1': 0.003971455512052443, 'w2': 0.14566345755308846, 'w3': 0.24819281546549976, 'w4': 0.35025361626525997}. Best is trial 13 with value: 0.004989126915944071.\u001b[0m\n",
            "\u001b[32m[I 2021-09-12 08:14:22,031]\u001b[0m Trial 22 finished with value: 0.0334449156865272 and parameters: {'w1': 0.08131963581733084, 'w2': 0.01128434011025316, 'w3': 0.14317330895451252, 'w4': 0.11447392069192838}. Best is trial 13 with value: 0.004989126915944071.\u001b[0m\n",
            "\u001b[32m[I 2021-09-12 08:15:56,194]\u001b[0m Trial 23 finished with value: 0.008188073747047862 and parameters: {'w1': 0.1043073583575177, 'w2': 0.00796406596478999, 'w3': 0.007424718337302275, 'w4': 0.11944009378732612}. Best is trial 13 with value: 0.004989126915944071.\u001b[0m\n",
            "\u001b[32m[I 2021-09-12 08:17:31,500]\u001b[0m Trial 24 finished with value: 0.014067689470042126 and parameters: {'w1': 0.172891763344252, 'w2': 0.10261780956916172, 'w3': 0.0012648934655705157, 'w4': 0.12651856326388922}. Best is trial 13 with value: 0.004989126915944071.\u001b[0m\n",
            "\u001b[32m[I 2021-09-12 08:19:07,707]\u001b[0m Trial 25 finished with value: 0.020033460020386827 and parameters: {'w1': 0.21979562184927856, 'w2': 0.11816359324640496, 'w3': 0.0006809597264852574, 'w4': 0.11146783257187962}. Best is trial 13 with value: 0.004989126915944071.\u001b[0m\n",
            "\u001b[32m[I 2021-09-12 08:20:42,178]\u001b[0m Trial 26 finished with value: 0.05386968142210164 and parameters: {'w1': 0.3008078258142399, 'w2': 0.38452872967349583, 'w3': 0.07328149054993861, 'w4': 0.15653711623542046}. Best is trial 13 with value: 0.004989126915944071.\u001b[0m\n",
            "\u001b[32m[I 2021-09-12 08:22:17,914]\u001b[0m Trial 27 finished with value: 0.07150397694994937 and parameters: {'w1': 0.4517196493340827, 'w2': 0.2177736892106536, 'w3': 9.834477355020443e-05, 'w4': 0.09877898162016467}. Best is trial 13 with value: 0.004989126915944071.\u001b[0m\n",
            "\u001b[32m[I 2021-09-12 08:23:53,345]\u001b[0m Trial 28 finished with value: 0.12260116947674515 and parameters: {'w1': 0.18485568003767341, 'w2': 0.5296396807971778, 'w3': 0.27350115383249773, 'w4': 0.18483266297099687}. Best is trial 13 with value: 0.004989126915944071.\u001b[0m\n",
            "\u001b[32m[I 2021-09-12 08:25:28,336]\u001b[0m Trial 29 finished with value: 0.8127484781568473 and parameters: {'w1': 0.6284392354104067, 'w2': 0.09281113699429247, 'w3': 0.6447955802730052, 'w4': 0.037618024933848096}. Best is trial 13 with value: 0.004989126915944071.\u001b[0m\n",
            "\u001b[32m[I 2021-09-12 08:27:03,451]\u001b[0m Trial 30 finished with value: 0.06461416539495794 and parameters: {'w1': 0.30442419790004427, 'w2': 0.19233580144069323, 'w3': 0.0885389680297422, 'w4': 0.633098650961876}. Best is trial 13 with value: 0.004989126915944071.\u001b[0m\n",
            "\u001b[32m[I 2021-09-12 08:28:38,316]\u001b[0m Trial 31 finished with value: 0.01908528648675579 and parameters: {'w1': 0.21000848686481774, 'w2': 0.12442981637909292, 'w3': 0.004190119943848795, 'w4': 0.09810628034141936}. Best is trial 13 with value: 0.004989126915944071.\u001b[0m\n",
            "\u001b[32m[I 2021-09-12 08:30:12,853]\u001b[0m Trial 32 finished with value: 0.014930107040848085 and parameters: {'w1': 0.09055664938360714, 'w2': 0.32946128673350317, 'w3': 0.06722185433428382, 'w4': 0.07286461005703862}. Best is trial 13 with value: 0.004989126915944071.\u001b[0m\n",
            "\u001b[32m[I 2021-09-12 08:31:47,866]\u001b[0m Trial 33 finished with value: 0.01502577621197764 and parameters: {'w1': 0.0892739794283713, 'w2': 0.3464474009562183, 'w3': 0.06845432255436024, 'w4': 0.06599940034617163}. Best is trial 13 with value: 0.004989126915944071.\u001b[0m\n",
            "\u001b[32m[I 2021-09-12 08:33:23,374]\u001b[0m Trial 34 finished with value: 0.06096153274202011 and parameters: {'w1': 0.05869470306848218, 'w2': 0.2530252599745596, 'w3': 0.2176721664635318, 'w4': 0.3217910426848831}. Best is trial 13 with value: 0.004989126915944071.\u001b[0m\n",
            "\u001b[32m[I 2021-09-12 08:34:58,388]\u001b[0m Trial 35 finished with value: 0.04188590673154266 and parameters: {'w1': 0.26755161197291966, 'w2': 0.3063791565888594, 'w3': 0.059390115199646355, 'w4': 0.1941184603022772}. Best is trial 13 with value: 0.004989126915944071.\u001b[0m\n",
            "\u001b[32m[I 2021-09-12 08:36:33,378]\u001b[0m Trial 36 finished with value: 0.036709644935138744 and parameters: {'w1': 0.13484840796164116, 'w2': 0.4351145233701287, 'w3': 0.12733314015546499, 'w4': 0.023901912356716765}. Best is trial 13 with value: 0.004989126915944071.\u001b[0m\n",
            "\u001b[32m[I 2021-09-12 08:38:07,543]\u001b[0m Trial 37 finished with value: 0.04402115512839734 and parameters: {'w1': 0.07982729625797205, 'w2': 0.5709182737842057, 'w3': 0.1661758321482691, 'w4': 0.41855119627609766}. Best is trial 13 with value: 0.004989126915944071.\u001b[0m\n",
            "\u001b[32m[I 2021-09-12 08:39:42,147]\u001b[0m Trial 38 finished with value: 0.6010188493433839 and parameters: {'w1': 0.9994554615426319, 'w2': 0.07031974033195781, 'w3': 0.28107558778662706, 'w4': 0.2587321180307691}. Best is trial 13 with value: 0.004989126915944071.\u001b[0m\n",
            "\u001b[32m[I 2021-09-12 08:41:16,173]\u001b[0m Trial 39 finished with value: 0.06029576015435554 and parameters: {'w1': 0.35631756235945844, 'w2': 0.17403966244091182, 'w3': 0.05256572343118969, 'w4': 0.00036869029433694855}. Best is trial 13 with value: 0.004989126915944071.\u001b[0m\n",
            "\u001b[32m[I 2021-09-12 08:42:52,746]\u001b[0m Trial 40 finished with value: 1.1316973057221869 and parameters: {'w1': 0.2465284498645905, 'w2': 0.36839960934613314, 'w3': 0.9777956315207882, 'w4': 0.1729192990842674}. Best is trial 13 with value: 0.004989126915944071.\u001b[0m\n",
            "\u001b[32m[I 2021-09-12 08:44:28,497]\u001b[0m Trial 41 finished with value: 0.016363439079185214 and parameters: {'w1': 0.08337294204509638, 'w2': 0.34912892352963965, 'w3': 0.07832840370852706, 'w4': 0.06947507419892196}. Best is trial 13 with value: 0.004989126915944071.\u001b[0m\n",
            "\u001b[32m[I 2021-09-12 08:46:03,430]\u001b[0m Trial 42 finished with value: 0.035431299847275055 and parameters: {'w1': 0.16645881304641405, 'w2': 0.40788735170099094, 'w3': 0.10600797458740165, 'w4': 0.06259016474134146}. Best is trial 13 with value: 0.004989126915944071.\u001b[0m\n",
            "\u001b[32m[I 2021-09-12 08:47:38,951]\u001b[0m Trial 43 finished with value: 0.014725965803224597 and parameters: {'w1': 0.11149299126146933, 'w2': 0.47266891642483455, 'w3': 0.052045117236277916, 'w4': 0.12424389671212521}. Best is trial 13 with value: 0.004989126915944071.\u001b[0m\n",
            "\u001b[32m[I 2021-09-12 08:49:14,629]\u001b[0m Trial 44 finished with value: 0.012883471345634256 and parameters: {'w1': 0.12826735343422352, 'w2': 0.4798935831374773, 'w3': 0.027915034920835854, 'w4': 0.1456949941488384}. Best is trial 13 with value: 0.004989126915944071.\u001b[0m\n",
            "\u001b[32m[I 2021-09-12 08:50:50,415]\u001b[0m Trial 45 finished with value: 0.8146771325527826 and parameters: {'w1': 0.14349797351953453, 'w2': 0.6046582576045563, 'w3': 0.8540134833196544, 'w4': 0.14688100440543442}. Best is trial 13 with value: 0.004989126915944071.\u001b[0m\n",
            "\u001b[32m[I 2021-09-12 08:52:24,696]\u001b[0m Trial 46 finished with value: 0.008127719117310953 and parameters: {'w1': 0.0486223714210952, 'w2': 0.730006740425299, 'w3': 0.03455696879217709, 'w4': 0.24167588656350575}. Best is trial 13 with value: 0.004989126915944071.\u001b[0m\n",
            "\u001b[32m[I 2021-09-12 08:53:59,288]\u001b[0m Trial 47 finished with value: 0.07269362699328769 and parameters: {'w1': 0.18261783914686835, 'w2': 0.8028171975815177, 'w3': 0.1862265428329639, 'w4': 0.23318413435484586}. Best is trial 13 with value: 0.004989126915944071.\u001b[0m\n",
            "\u001b[32m[I 2021-09-12 08:55:34,007]\u001b[0m Trial 48 finished with value: 0.009350764029578585 and parameters: {'w1': 0.05356467378440517, 'w2': 0.7061568717286913, 'w3': 0.0369492680566379, 'w4': 0.36591299361099555}. Best is trial 13 with value: 0.004989126915944071.\u001b[0m\n",
            "\u001b[32m[I 2021-09-12 08:57:07,975]\u001b[0m Trial 49 finished with value: 0.13036738123575026 and parameters: {'w1': 0.04326243576228663, 'w2': 0.7698785938055761, 'w3': 0.3385517739497647, 'w4': 0.4486668755093916}. Best is trial 13 with value: 0.004989126915944071.\u001b[0m\n"
          ]
        }
      ]
    },
    {
      "cell_type": "code",
      "metadata": {
        "colab": {
          "base_uri": "https://localhost:8080/"
        },
        "id": "8WOWCQJJDb84",
        "outputId": "0b049bb5-6672-4661-a05a-ca3eec3d0003"
      },
      "source": [
        "v=study.best_params\n",
        "v"
      ],
      "execution_count": 54,
      "outputs": [
        {
          "output_type": "execute_result",
          "data": {
            "text/plain": [
              "{'w1': 0.009946558660320098,\n",
              " 'w2': 0.267004428647879,\n",
              " 'w3': 0.00032022522138083764,\n",
              " 'w4': 0.30108544888047406}"
            ]
          },
          "metadata": {},
          "execution_count": 54
        }
      ]
    },
    {
      "cell_type": "code",
      "metadata": {
        "id": "5WggDKHQD5a8"
      },
      "source": [
        "{'w1': 0.009946558660320098,\n",
        " 'w2': 0.267004428647879,\n",
        " 'w3': 0.00032022522138083764,\n",
        " 'w4': 0.30108544888047406}"
      ],
      "execution_count": 54,
      "outputs": []
    },
    {
      "cell_type": "code",
      "metadata": {
        "id": "RBhCHUh3OnYc"
      },
      "source": [
        ""
      ],
      "execution_count": 54,
      "outputs": []
    },
    {
      "cell_type": "code",
      "metadata": {
        "colab": {
          "base_uri": "https://localhost:8080/"
        },
        "id": "uXhj5VNTOnhk",
        "outputId": "d0e73fae-9528-4e77-eea1-7df242aa6a4f"
      },
      "source": [
        "z=my_final_retrieved_docs([v['w1'],v['w2'],v['w3'],v['w4']])\n",
        "print(z)"
      ],
      "execution_count": 56,
      "outputs": [
        {
          "output_type": "stream",
          "name": "stdout",
          "text": [
            "0.004989126915944071\n"
          ]
        }
      ]
    },
    {
      "cell_type": "markdown",
      "metadata": {
        "id": "x9zNDMbHG814"
      },
      "source": [
        "# ['Title', 'Author', 'Text', 'Info'] ===>> \n",
        "#weights [0.6296626602841014, 0.8168310496870982, 0.9606763876973095, 0.2516580343220661]\n",
        "\n",
        "we see maximum weight is given in to 'Text' zone and minimum weight to 'Info' zone WHICH  MAKES SENSE as Text zone is most important for retrieval"
      ]
    },
    {
      "cell_type": "code",
      "metadata": {
        "id": "EhVmMxkpD-rw"
      },
      "source": [
        ""
      ],
      "execution_count": null,
      "outputs": []
    }
  ]
}